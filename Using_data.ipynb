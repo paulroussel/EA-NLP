{
 "cells": [
  {
   "cell_type": "code",
   "execution_count": 2,
   "metadata": {},
   "outputs": [],
   "source": [
    "import pandas as pd\n",
    "import numpy as np\n",
    "import random as rd\n",
    "from cache import Cache\n",
    "\n",
    "cache=Cache()"
   ]
  },
  {
   "cell_type": "code",
   "execution_count": 3,
   "metadata": {},
   "outputs": [],
   "source": [
    "df = cache.load('clean_df_complete')"
   ]
  },
  {
   "cell_type": "code",
   "execution_count": 4,
   "metadata": {},
   "outputs": [],
   "source": [
    "df['title_len'] = df['title'].apply(lambda x : len(x))\n",
    "df['description_len'] = df['description'].apply(lambda x : len(x))\n",
    "df['content_len'] = df['content'].apply(lambda x : len(x))"
   ]
  },
  {
   "cell_type": "code",
   "execution_count": 5,
   "metadata": {},
   "outputs": [
    {
     "name": "stdout",
     "output_type": "stream",
     "text": [
      "mean title :  41.92821651227684 \n",
      "mean description :  156.9825001815334 \n",
      "mean content :  2638.949834545285\n",
      "\n",
      "ratio :  16.81047143148837  and  62.939711107735384\n"
     ]
    }
   ],
   "source": [
    "from statistics import mean \n",
    "print('mean title : ',mean(df['title_len']),\n",
    "'\\nmean description : ',mean(df['description_len']),\n",
    "'\\nmean content : ',mean(df['content_len']))\n",
    "\n",
    "print('\\nratio : ',mean(df['content_len'])/mean(df['description_len']),' and ',mean(df['content_len'])/mean(df['title_len']))"
   ]
  },
  {
   "cell_type": "markdown",
   "metadata": {},
   "source": [
    "# Building training and testing data"
   ]
  },
  {
   "cell_type": "code",
   "execution_count": null,
   "metadata": {},
   "outputs": [],
   "source": []
  },
  {
   "cell_type": "code",
   "execution_count": 6,
   "metadata": {},
   "outputs": [],
   "source": [
    "labels  = cache.load('labels_96k')\n",
    "content_lsa = cache.load('feature_content_lsa_96k')\n",
    "description_lsa = cache.load('feature_description_lsa_96k')\n",
    "title_lsa = cache.load('feature_title_lsa_96k')\n",
    "content_w2v = cache.load('feature_content_w2v_96k')\n",
    "title_w2v = cache.load('feature_title_w2v_96k')\n",
    "description_w2v = cache.load('feature_description_w2v_96k')\n"
   ]
  },
  {
   "cell_type": "code",
   "execution_count": null,
   "metadata": {},
   "outputs": [],
   "source": []
  },
  {
   "cell_type": "code",
   "execution_count": 11,
   "metadata": {},
   "outputs": [],
   "source": [
    "XY = []\n",
    "for i in range(len(labels)):\n",
    "    temp = [item for item in np.concatenate((content_lsa[i],description_lsa[i],title_lsa[i],content_w2v[i],title_w2v[i],description_w2v[i],labels['thematic_value'][i]),axis=None)]\n",
    "    if len(temp)==112:\n",
    "        XY+=[temp]\n",
    "XY = np.array(XY)"
   ]
  },
  {
   "cell_type": "code",
   "execution_count": 12,
   "metadata": {},
   "outputs": [
    {
     "data": {
      "text/plain": [
       "(95495, 112)"
      ]
     },
     "execution_count": 12,
     "metadata": {},
     "output_type": "execute_result"
    }
   ],
   "source": []
  },
  {
   "cell_type": "code",
   "execution_count": 13,
   "metadata": {},
   "outputs": [],
   "source": [
    "np.random.seed(10000)\n",
    "np.random.shuffle(XY)\n",
    "\n",
    "X = XY[:,:-1]\n",
    "Y = XY[:,-1]"
   ]
  },
  {
   "cell_type": "code",
   "execution_count": 14,
   "metadata": {},
   "outputs": [],
   "source": [
    "split = (len(X)*8)//10\n",
    "\n",
    "X_train = X[:split,:]\n",
    "X_test = X[split+1:,:]\n",
    "Y_train = Y[:split]\n",
    "Y_test = Y[split+1:]"
   ]
  },
  {
   "cell_type": "markdown",
   "metadata": {},
   "source": [
    "# Random forest"
   ]
  },
  {
   "cell_type": "code",
   "execution_count": 20,
   "metadata": {},
   "outputs": [],
   "source": [
    "from sklearn.ensemble import RandomForestRegressor as rfr\n",
    "from sklearn.ensemble import RandomForestClassifier as rfc"
   ]
  },
  {
   "cell_type": "code",
   "execution_count": 21,
   "metadata": {},
   "outputs": [
    {
     "data": {
      "text/plain": [
       "0.4921981359304639"
      ]
     },
     "execution_count": 21,
     "metadata": {},
     "output_type": "execute_result"
    }
   ],
   "source": [
    "forest = rfc(n_estimators=200, max_depth=5,random_state=0)\n",
    "forest.fit(X_train, Y_train)\n",
    "forest.score(X_test, Y_test)"
   ]
  },
  {
   "cell_type": "code",
   "execution_count": null,
   "metadata": {},
   "outputs": [],
   "source": []
  },
  {
   "cell_type": "code",
   "execution_count": 31,
   "metadata": {},
   "outputs": [
    {
     "name": "stdout",
     "output_type": "stream",
     "text": [
      "le score pour la classe 0 est de 0.9042831710126715 %\n",
      "le score pour la classe 1 est de 0.8988899361189653 %\n",
      "le score pour la classe 2 est de 0.9369567493978427 %\n",
      "le score pour la classe 3 est de 0.8756937899256466 %\n",
      "le score pour la classe 4 est de 0.9104094669598911 %\n",
      "le score pour la classe 5 est de 0.9224526128390408 %\n",
      "le score pour la classe 6 est de 0.9317205990156038 %\n",
      "le score pour la classe 7 est de 0.9360142423290397 %\n",
      "le score pour la classe 8 est de 0.9582678814535553 %\n",
      "le score pour la classe 9 est de 0.9452822285056027 %\n",
      "le score pour la classe 10 est de 0.9451775054979579 %\n"
     ]
    }
   ],
   "source": [
    "forests = {}\n",
    "scores = []\n",
    "for i in range(11):\n",
    "    \n",
    "    Y_train_temp = np.array([int(item==i) for item in Y_train])\n",
    "    Y_test_temp = np.array([int(item==i) for item in Y_test])\n",
    "    \n",
    "    \n",
    "    forests[i] = rfc(n_estimators=200, max_depth=5,random_state=0)\n",
    "    forests[i].fit(X_train, Y_train_temp)\n",
    "    scores.append(forests[i].score(X_test, Y_test_temp))\n",
    "    print('le score pour la classe ' + str(i) + ' est de ' + str(scores[i]) + ' %')\n"
   ]
  },
  {
   "cell_type": "code",
   "execution_count": null,
   "metadata": {},
   "outputs": [],
   "source": []
  },
  {
   "cell_type": "code",
   "execution_count": null,
   "metadata": {},
   "outputs": [],
   "source": []
  },
  {
   "cell_type": "markdown",
   "metadata": {},
   "source": [
    "# Keras NN"
   ]
  },
  {
   "cell_type": "code",
   "execution_count": 17,
   "metadata": {},
   "outputs": [
    {
     "name": "stderr",
     "output_type": "stream",
     "text": [
      "C:\\Users\\auges\\Anaconda3\\lib\\site-packages\\h5py\\__init__.py:36: FutureWarning: Conversion of the second argument of issubdtype from `float` to `np.floating` is deprecated. In future, it will be treated as `np.float64 == np.dtype(float).type`.\n",
      "  from ._conv import register_converters as _register_converters\n",
      "Using TensorFlow backend.\n"
     ]
    }
   ],
   "source": [
    "import tensorflow\n",
    "import keras\n",
    "from keras import backend as K\n",
    "from keras.models import Sequential\n",
    "from keras.layers import Dense, Dropout, Flatten\n",
    "from keras.layers import Conv2D, MaxPooling2D\n",
    "from keras import activations\n",
    "from tensorflow.keras.callbacks import TensorBoard\n",
    "import time\n",
    "from time import clock\n",
    "from tensorflow.keras.utils import normalize, to_categorical\n",
    "import pandas as pd\n",
    "from keras.utils import to_categorical"
   ]
  },
  {
   "cell_type": "code",
   "execution_count": 18,
   "metadata": {},
   "outputs": [],
   "source": [
    "Y_cat = to_categorical(Y)\n",
    "Y_train_cat = Y_cat[:split,:]\n",
    "Y_test_cat = Y_cat[split+1:,:]\n"
   ]
  },
  {
   "cell_type": "code",
   "execution_count": null,
   "metadata": {},
   "outputs": [],
   "source": [
    "Y_cat.shape"
   ]
  },
  {
   "cell_type": "code",
   "execution_count": 19,
   "metadata": {},
   "outputs": [
    {
     "name": "stdout",
     "output_type": "stream",
     "text": [
      "Train on 76396 samples, validate on 19098 samples\n",
      "Epoch 1/20\n",
      "76396/76396 [==============================] - 4s 47us/step - loss: 1.1628 - acc: 0.5931 - val_loss: 1.0907 - val_acc: 0.6179\n",
      "Epoch 2/20\n",
      "76396/76396 [==============================] - 3s 44us/step - loss: 1.0757 - acc: 0.6214 - val_loss: 1.0694 - val_acc: 0.6191\n",
      "Epoch 3/20\n",
      "76396/76396 [==============================] - 3s 43us/step - loss: 1.0530 - acc: 0.6302 - val_loss: 1.0460 - val_acc: 0.6318\n",
      "Epoch 4/20\n",
      "76396/76396 [==============================] - 3s 44us/step - loss: 1.0385 - acc: 0.6350 - val_loss: 1.0380 - val_acc: 0.6349\n",
      "Epoch 5/20\n",
      "76396/76396 [==============================] - 3s 42us/step - loss: 1.0281 - acc: 0.6388 - val_loss: 1.0352 - val_acc: 0.6357\n",
      "Epoch 6/20\n",
      "76396/76396 [==============================] - 3s 43us/step - loss: 1.0203 - acc: 0.6403 - val_loss: 1.0223 - val_acc: 0.6414\n",
      "Epoch 7/20\n",
      "76396/76396 [==============================] - 3s 42us/step - loss: 1.0129 - acc: 0.6435 - val_loss: 1.0206 - val_acc: 0.6396\n",
      "Epoch 8/20\n",
      "76396/76396 [==============================] - 3s 42us/step - loss: 1.0070 - acc: 0.6459 - val_loss: 1.0130 - val_acc: 0.6465\n",
      "Epoch 9/20\n",
      "76396/76396 [==============================] - 3s 42us/step - loss: 1.0023 - acc: 0.6473 - val_loss: 1.0069 - val_acc: 0.6476\n",
      "Epoch 10/20\n",
      "76396/76396 [==============================] - 3s 41us/step - loss: 0.9973 - acc: 0.6486 - val_loss: 1.0062 - val_acc: 0.6475\n",
      "Epoch 11/20\n",
      "76396/76396 [==============================] - 3s 43us/step - loss: 0.9934 - acc: 0.6506 - val_loss: 1.0029 - val_acc: 0.6494\n",
      "Epoch 12/20\n",
      "76396/76396 [==============================] - 3s 43us/step - loss: 0.9896 - acc: 0.6517 - val_loss: 0.9994 - val_acc: 0.6502\n",
      "Epoch 13/20\n",
      "76396/76396 [==============================] - 3s 42us/step - loss: 0.9858 - acc: 0.6525 - val_loss: 0.9939 - val_acc: 0.6517\n",
      "Epoch 14/20\n",
      "76396/76396 [==============================] - 3s 43us/step - loss: 0.9825 - acc: 0.6538 - val_loss: 0.9941 - val_acc: 0.6530\n",
      "Epoch 15/20\n",
      "76396/76396 [==============================] - 4s 49us/step - loss: 0.9800 - acc: 0.6548 - val_loss: 0.9895 - val_acc: 0.6538\n",
      "Epoch 16/20\n",
      "76396/76396 [==============================] - 3s 43us/step - loss: 0.9767 - acc: 0.6557 - val_loss: 0.9903 - val_acc: 0.6528\n",
      "Epoch 17/20\n",
      "76396/76396 [==============================] - 3s 44us/step - loss: 0.9743 - acc: 0.6570 - val_loss: 0.9900 - val_acc: 0.6551\n",
      "Epoch 18/20\n",
      "76396/76396 [==============================] - 3s 43us/step - loss: 0.9721 - acc: 0.6564 - val_loss: 0.9843 - val_acc: 0.6554\n",
      "Epoch 19/20\n",
      "76396/76396 [==============================] - 3s 45us/step - loss: 0.9695 - acc: 0.6595 - val_loss: 0.9850 - val_acc: 0.6561\n",
      "Epoch 20/20\n",
      "76396/76396 [==============================] - 3s 45us/step - loss: 0.9672 - acc: 0.6597 - val_loss: 0.9838 - val_acc: 0.6561\n"
     ]
    },
    {
     "data": {
      "text/plain": [
       "<keras.callbacks.History at 0x1fdd85343c8>"
      ]
     },
     "execution_count": 19,
     "metadata": {},
     "output_type": "execute_result"
    }
   ],
   "source": [
    "name=f'project-{int(time.time())}'\n",
    "\n",
    "\n",
    "model=Sequential()\n",
    "\n",
    "model.add(Dense(32, activation='relu'))\n",
    "model.add(Dense(256,activation='relu'))\n",
    "model.add(Dense(256,activation='relu'))\n",
    "\n",
    "model.add(Dense(11,activation='softmax'))\n",
    "\n",
    "ada = keras.optimizers.Adagrad()\n",
    "\n",
    "model.compile(loss='categorical_crossentropy',\n",
    "              optimizer=ada,\n",
    "              metrics=[\"accuracy\"])\n",
    "model.fit(X_train, Y_train_cat, batch_size=32, epochs=20, validation_data=(X_test, Y_test_cat))"
   ]
  },
  {
   "cell_type": "code",
   "execution_count": null,
   "metadata": {},
   "outputs": [],
   "source": []
  }
 ],
 "metadata": {
  "kernelspec": {
   "display_name": "Python 3",
   "language": "python",
   "name": "python3"
  },
  "language_info": {
   "codemirror_mode": {
    "name": "ipython",
    "version": 3
   },
   "file_extension": ".py",
   "mimetype": "text/x-python",
   "name": "python",
   "nbconvert_exporter": "python",
   "pygments_lexer": "ipython3",
   "version": "3.6.5"
  }
 },
 "nbformat": 4,
 "nbformat_minor": 2
}
