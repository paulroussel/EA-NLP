{
 "cells": [
  {
   "cell_type": "code",
   "execution_count": null,
   "metadata": {},
   "outputs": [],
   "source": [
    "import json\n",
    "import pandas as pd\n",
    "from datetime import datetime\n",
    "import copy\n",
    "import os\n",
    "from cache import Cache\n",
    "\n",
    "cache=Cache()"
   ]
  },
  {
   "cell_type": "code",
   "execution_count": null,
   "metadata": {},
   "outputs": [],
   "source": [
    "liste =[]\n",
    "i=1\n",
    "while os.path.exists(f'../Database/articles_{i}.json'):\n",
    "    with open(f'../Database/articles_{i}.json') as file:\n",
    "        liste += json.load(file)\n",
    "    i+=1"
   ]
  },
  {
   "cell_type": "code",
   "execution_count": null,
   "metadata": {},
   "outputs": [],
   "source": [
    "len(liste)"
   ]
  },
  {
   "cell_type": "code",
   "execution_count": null,
   "metadata": {},
   "outputs": [],
   "source": [
    "liste[0]"
   ]
  },
  {
   "cell_type": "code",
   "execution_count": null,
   "metadata": {},
   "outputs": [],
   "source": [
    "for elem in liste : \n",
    "    temp=[]\n",
    "    for item in elem['date']:\n",
    "        try:\n",
    "            temp+=[datetime.strptime(item,'%Y-%m-%dT%H:%M:%S.%f')]\n",
    "        except:\n",
    "            temp+=[datetime.strptime(item,'%Y-%m-%dT%H:%M:%S')]\n",
    "    elem['datetime']=temp"
   ]
  },
  {
   "cell_type": "code",
   "execution_count": null,
   "metadata": {},
   "outputs": [],
   "source": []
  },
  {
   "cell_type": "code",
   "execution_count": 8,
   "metadata": {},
   "outputs": [],
   "source": [
    "string_list = [\n",
    "    \"for elem in liste : \\n\",\n",
    "    \"    temp=[]\\n\",\n",
    "    \"    for item in elem['date']:\\n\",\n",
    "    \"        try:\\n\",\n",
    "    \"            temp+=[datetime.strptime(item,'%Y-%m-%dT%H:%M:%S.%f')]\\n\",\n",
    "    \"        except:\\n\",\n",
    "    \"            temp+=[datetime.strptime(item,'%Y-%m-%dT%H:%M:%S')]\\n\",\n",
    "    \"    elem['datetime']=temp\"\n",
    "   ]"
   ]
  },
  {
   "cell_type": "code",
   "execution_count": 9,
   "metadata": {},
   "outputs": [
    {
     "name": "stdout",
     "output_type": "stream",
     "text": [
      "for elem in liste : \n",
      "    temp=[]\n",
      "    for item in elem['date']:\n",
      "        try:\n",
      "            temp+=[datetime.strptime(item,'%Y-%m-%dT%H:%M:%S.%f')]\n",
      "        except:\n",
      "            temp+=[datetime.strptime(item,'%Y-%m-%dT%H:%M:%S')]\n",
      "    elem['datetime']=temp\n"
     ]
    }
   ],
   "source": [
    "string = \"\"\n",
    "for elem in string_list:\n",
    "    string+= elem\n",
    "print(string)"
   ]
  },
  {
   "cell_type": "code",
   "execution_count": null,
   "metadata": {},
   "outputs": [],
   "source": []
  }
 ],
 "metadata": {
  "kernelspec": {
   "display_name": "Python 3",
   "language": "python",
   "name": "python3"
  },
  "language_info": {
   "codemirror_mode": {
    "name": "ipython",
    "version": 3
   },
   "file_extension": ".py",
   "mimetype": "text/x-python",
   "name": "python",
   "nbconvert_exporter": "python",
   "pygments_lexer": "ipython3",
   "version": "3.6.5"
  }
 },
 "nbformat": 4,
 "nbformat_minor": 2
}
