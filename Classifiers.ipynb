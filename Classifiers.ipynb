{
 "cells": [
  {
   "cell_type": "code",
   "execution_count": 1,
   "metadata": {},
   "outputs": [],
   "source": [
    "import matplotlib.pyplot as plt"
   ]
  },
  {
   "cell_type": "code",
   "execution_count": 2,
   "metadata": {},
   "outputs": [],
   "source": [
    "from cache import Cache\n",
    "cache = Cache()\n",
    "df = cache.load('dataframe_with_datetime')"
   ]
  },
  {
   "cell_type": "code",
   "execution_count": 8,
   "metadata": {},
   "outputs": [
    {
     "data": {
      "text/plain": [
       "international    8051\n",
       "Name: thematic, dtype: int64"
      ]
     },
     "execution_count": 8,
     "metadata": {},
     "output_type": "execute_result"
    }
   ],
   "source": [
    "df.thematic.value_counts()"
   ]
  },
  {
   "cell_type": "code",
   "execution_count": 3,
   "metadata": {},
   "outputs": [],
   "source": [
    "labels = cache.load('labels')"
   ]
  },
  {
   "cell_type": "code",
   "execution_count": 4,
   "metadata": {},
   "outputs": [],
   "source": [
    "data_lsi = cache.load('features_lsi')"
   ]
  },
  {
   "cell_type": "code",
   "execution_count": 104,
   "metadata": {},
   "outputs": [],
   "source": [
    "data_w2v = cache.load('feature_w2v')\n",
    "X, Y = data_w2v\n",
    "#Y = to_categorical(Y.values)\n",
    "X = np.array(X)\n",
    "Y = np.array(Y)"
   ]
  },
  {
   "cell_type": "markdown",
   "metadata": {},
   "source": [
    "### Neural Networks in keras"
   ]
  },
  {
   "cell_type": "code",
   "execution_count": 7,
   "metadata": {},
   "outputs": [
    {
     "name": "stderr",
     "output_type": "stream",
     "text": [
      "C:\\Users\\yayou\\Anaconda3\\lib\\site-packages\\h5py\\__init__.py:36: FutureWarning: Conversion of the second argument of issubdtype from `float` to `np.floating` is deprecated. In future, it will be treated as `np.float64 == np.dtype(float).type`.\n",
      "  from ._conv import register_converters as _register_converters\n"
     ]
    }
   ],
   "source": [
    "import numpy as np\n",
    "import tensorflow as tf\n",
    "from tensorflow.keras.models import Sequential"
   ]
  },
  {
   "cell_type": "code",
   "execution_count": 9,
   "metadata": {},
   "outputs": [
    {
     "name": "stderr",
     "output_type": "stream",
     "text": [
      "Using TensorFlow backend.\n"
     ]
    }
   ],
   "source": [
    "import tensorflow\n",
    "import keras\n",
    "from keras import backend as K\n",
    "from keras.models import Sequential\n",
    "from keras.layers import Dense, Dropout, Flatten\n",
    "from keras.layers import Conv2D, MaxPooling2D\n",
    "from keras import activations\n",
    "from tensorflow.keras.callbacks import TensorBoard\n",
    "import time\n",
    "from time import clock\n",
    "from tensorflow.keras.utils import normalize, to_categorical\n",
    "import pandas as pd\n",
    "from keras.utils import to_categorical"
   ]
  },
  {
   "cell_type": "code",
   "execution_count": 11,
   "metadata": {},
   "outputs": [
    {
     "data": {
      "text/plain": [
       "(32,)"
      ]
     },
     "execution_count": 11,
     "metadata": {},
     "output_type": "execute_result"
    }
   ],
   "source": [
    "X[0].shape"
   ]
  },
  {
   "cell_type": "code",
   "execution_count": 13,
   "metadata": {},
   "outputs": [
    {
     "name": "stdout",
     "output_type": "stream",
     "text": [
      "Train on 6440 samples, validate on 1611 samples\n",
      "Epoch 1/10\n",
      "6440/6440 [==============================] - 5s 729us/step - loss: 2.7938 - acc: 0.2576 - val_loss: 3.0983 - val_acc: 0.1223\n",
      "Epoch 2/10\n",
      "6440/6440 [==============================] - 4s 553us/step - loss: 2.7150 - acc: 0.2590 - val_loss: 3.1198 - val_acc: 0.1223\n",
      "Epoch 3/10\n",
      "6440/6440 [==============================] - 4s 614us/step - loss: 2.6998 - acc: 0.2590 - val_loss: 3.0538 - val_acc: 0.1223\n",
      "Epoch 4/10\n",
      "6440/6440 [==============================] - 4s 572us/step - loss: 2.6884 - acc: 0.2590 - val_loss: 2.9914 - val_acc: 0.1223\n",
      "Epoch 5/10\n",
      "6440/6440 [==============================] - 4s 553us/step - loss: 2.6864 - acc: 0.2590 - val_loss: 3.0293 - val_acc: 0.1223\n",
      "Epoch 6/10\n",
      "6440/6440 [==============================] - 4s 564us/step - loss: 2.6781 - acc: 0.2590 - val_loss: 3.0029 - val_acc: 0.1223\n",
      "Epoch 7/10\n",
      "6440/6440 [==============================] - 5s 706us/step - loss: 2.6708 - acc: 0.2590 - val_loss: 3.0129 - val_acc: 0.1223\n",
      "Epoch 8/10\n",
      "6440/6440 [==============================] - 5s 825us/step - loss: 2.6712 - acc: 0.2590 - val_loss: 2.9593 - val_acc: 0.1223\n",
      "Epoch 9/10\n",
      "6440/6440 [==============================] - 6s 854us/step - loss: 2.6589 - acc: 0.2590 - val_loss: 2.9365 - val_acc: 0.1223\n",
      "Epoch 10/10\n",
      "6440/6440 [==============================] - 6s 896us/step - loss: 2.6587 - acc: 0.2590 - val_loss: 2.9117 - val_acc: 0.1223\n"
     ]
    },
    {
     "data": {
      "text/plain": [
       "<keras.callbacks.History at 0x22790f9bb38>"
      ]
     },
     "execution_count": 13,
     "metadata": {},
     "output_type": "execute_result"
    }
   ],
   "source": [
    "name=f'project-{int(time.time())}'\n",
    "        \n",
    "tensorboard= TensorBoard(log_dir=f'logs/{name}')\n",
    "\n",
    "model=Sequential()\n",
    "\n",
    "model.add(Dense(32, activation='relu'))\n",
    "model.add(Dropout(0.5))\n",
    "model.add(Dense(256,activation='relu'))\n",
    "model.add(Dropout(0.5))\n",
    "model.add(Dense(256,activation='relu'))\n",
    "\n",
    "model.add(Dense(88,activation='sigmoid'))\n",
    "\n",
    "model.compile(loss=keras.losses.categorical_crossentropy,\n",
    "              optimizer=keras.optimizers.adagrad(),\n",
    "              metrics=[\"accuracy\"])\n",
    "model.fit(X[:int(len(X)*0.8)],Y[:int(len(Y)*0.8)],batch_size=32,epochs=10,validation_data=(X[int(len(X)*0.8):],Y[int(len(Y)*0.8):]),callbacks=[tensorboard])"
   ]
  },
  {
   "cell_type": "markdown",
   "metadata": {},
   "source": [
    "### random forest"
   ]
  },
  {
   "cell_type": "code",
   "execution_count": 10,
   "metadata": {},
   "outputs": [],
   "source": [
    "from sklearn.ensemble import RandomForestRegressor as rfr\n",
    "from sklearn.ensemble import RandomForestClassifier as rfc"
   ]
  },
  {
   "cell_type": "code",
   "execution_count": 119,
   "metadata": {},
   "outputs": [],
   "source": [
    "X1 = X[Y<20]\n",
    "Y1 = Y[Y<20]\n",
    "\n",
    "X_train = np.array(X1[:int(len(X)*0.8)])\n",
    "Y_train = np.array(Y1[:int(len(Y)*0.8)])\n",
    "X_test = np.array(X1[int(len(X)*0.8):])\n",
    "Y_test = np.array(Y1[int(len(Y)*0.8):])"
   ]
  },
  {
   "cell_type": "code",
   "execution_count": 130,
   "metadata": {},
   "outputs": [],
   "source": [
    "forest = rfc(n_estimators=500, max_depth=2,random_state=0)"
   ]
  },
  {
   "cell_type": "code",
   "execution_count": 131,
   "metadata": {},
   "outputs": [
    {
     "data": {
      "text/plain": [
       "RandomForestClassifier(bootstrap=True, class_weight=None, criterion='gini',\n",
       "            max_depth=2, max_features='auto', max_leaf_nodes=None,\n",
       "            min_impurity_decrease=0.0, min_impurity_split=None,\n",
       "            min_samples_leaf=1, min_samples_split=2,\n",
       "            min_weight_fraction_leaf=0.0, n_estimators=500, n_jobs=1,\n",
       "            oob_score=False, random_state=0, verbose=0, warm_start=False)"
      ]
     },
     "execution_count": 131,
     "metadata": {},
     "output_type": "execute_result"
    }
   ],
   "source": [
    "forest.fit(X_train, Y_train)"
   ]
  },
  {
   "cell_type": "code",
   "execution_count": 132,
   "metadata": {},
   "outputs": [
    {
     "data": {
      "text/plain": [
       "0.13679245283018868"
      ]
     },
     "execution_count": 132,
     "metadata": {},
     "output_type": "execute_result"
    }
   ],
   "source": [
    "forest.score(X_test, Y_test)"
   ]
  },
  {
   "cell_type": "code",
   "execution_count": 133,
   "metadata": {},
   "outputs": [],
   "source": [
    "Y_proba = forest.predict_proba(X_test) # donne le vecteur de probabilité\n",
    "Y_pred = forest.predict(X_test)"
   ]
  }
 ],
 "metadata": {
  "kernelspec": {
   "display_name": "Python 3",
   "language": "python",
   "name": "python3"
  },
  "language_info": {
   "codemirror_mode": {
    "name": "ipython",
    "version": 3
   },
   "file_extension": ".py",
   "mimetype": "text/x-python",
   "name": "python",
   "nbconvert_exporter": "python",
   "pygments_lexer": "ipython3",
   "version": "3.6.5"
  }
 },
 "nbformat": 4,
 "nbformat_minor": 2
}
