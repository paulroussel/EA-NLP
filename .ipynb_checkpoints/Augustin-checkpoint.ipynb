{
 "cells": [
  {
   "cell_type": "code",
   "execution_count": 1,
   "metadata": {},
   "outputs": [],
   "source": [
    "import json\n",
    "import pandas as pd\n",
    "from datetime import datetime\n",
    "import copy\n",
    "import os\n",
    "from cache import Cache\n",
    "\n",
    "cache=Cache()"
   ]
  },
  {
   "cell_type": "code",
   "execution_count": 2,
   "metadata": {},
   "outputs": [],
   "source": [
    "liste =[]\n",
    "i=1\n",
    "while os.path.exists(f'../Database/articles_{i}.json'):\n",
    "    with open(f'../Database/articles_{i}.json') as file:\n",
    "        liste += json.load(file)\n",
    "    i+=1"
   ]
  },
  {
   "cell_type": "code",
   "execution_count": 3,
   "metadata": {},
   "outputs": [],
   "source": [
    "for elem in liste : \n",
    "    temp=[]\n",
    "    for item in elem['date']:\n",
    "        try:\n",
    "            temp+=[datetime.strptime(item,'%Y-%m-%dT%H:%M:%S.%f')]\n",
    "        except:\n",
    "            temp+=[datetime.strptime(item,'%Y-%m-%dT%H:%M:%S')]\n",
    "    elem['datetime']=temp"
   ]
  },
  {
   "cell_type": "code",
   "execution_count": 4,
   "metadata": {},
   "outputs": [],
   "source": [
    "def liste_to_df(liste):\n",
    "    liste2=copy.deepcopy(liste)\n",
    "    for elem in liste2:\n",
    "        for key in elem.keys():\n",
    "            if type(elem[key])==list:\n",
    "                elem[key]=','.join([str(x) for x in elem[key]])\n",
    "    return liste2"
   ]
  },
  {
   "cell_type": "code",
   "execution_count": 5,
   "metadata": {},
   "outputs": [],
   "source": [
    "df = pd.DataFrame(liste_to_df(liste))"
   ]
  },
  {
   "cell_type": "code",
   "execution_count": 6,
   "metadata": {},
   "outputs": [
    {
     "data": {
      "text/html": [
       "<div>\n",
       "<style scoped>\n",
       "    .dataframe tbody tr th:only-of-type {\n",
       "        vertical-align: middle;\n",
       "    }\n",
       "\n",
       "    .dataframe tbody tr th {\n",
       "        vertical-align: top;\n",
       "    }\n",
       "\n",
       "    .dataframe thead th {\n",
       "        text-align: right;\n",
       "    }\n",
       "</style>\n",
       "<table border=\"1\" class=\"dataframe\">\n",
       "  <thead>\n",
       "    <tr style=\"text-align: right;\">\n",
       "      <th></th>\n",
       "      <th>author</th>\n",
       "      <th>content</th>\n",
       "      <th>date</th>\n",
       "      <th>datetime</th>\n",
       "      <th>description</th>\n",
       "      <th>overall_theme</th>\n",
       "      <th>subtitles</th>\n",
       "      <th>thematic</th>\n",
       "      <th>theme</th>\n",
       "      <th>title</th>\n",
       "      <th>url</th>\n",
       "    </tr>\n",
       "  </thead>\n",
       "  <tbody>\n",
       "    <tr>\n",
       "      <th>count</th>\n",
       "      <td>8051</td>\n",
       "      <td>8051</td>\n",
       "      <td>8051</td>\n",
       "      <td>8051</td>\n",
       "      <td>8051</td>\n",
       "      <td>8051</td>\n",
       "      <td>8051</td>\n",
       "      <td>8051</td>\n",
       "      <td>8051</td>\n",
       "      <td>8051</td>\n",
       "      <td>8051</td>\n",
       "    </tr>\n",
       "    <tr>\n",
       "      <th>unique</th>\n",
       "      <td>1125</td>\n",
       "      <td>8044</td>\n",
       "      <td>8026</td>\n",
       "      <td>8026</td>\n",
       "      <td>8037</td>\n",
       "      <td>88</td>\n",
       "      <td>7194</td>\n",
       "      <td>1</td>\n",
       "      <td>211</td>\n",
       "      <td>8049</td>\n",
       "      <td>8051</td>\n",
       "    </tr>\n",
       "    <tr>\n",
       "      <th>top</th>\n",
       "      <td>Le Monde avec AFP</td>\n",
       "      <td>Les Etats membres de l’Union européenne (UE) v...</td>\n",
       "      <td>2018-07-07T08:00:00,2018-07-07T08:00:00</td>\n",
       "      <td>2018-10-27 10:17:00,2018-10-27 10:17:00</td>\n",
       "      <td>Les Décodeurs résument, pour les lecteurs de «...</td>\n",
       "      <td>International</td>\n",
       "      <td></td>\n",
       "      <td>international</td>\n",
       "      <td></td>\n",
       "      <td>Affaire Khashoggi : la France évoque des sanct...</td>\n",
       "      <td>https://www.lemonde.fr/proche-orient/article/2...</td>\n",
       "    </tr>\n",
       "    <tr>\n",
       "      <th>freq</th>\n",
       "      <td>2175</td>\n",
       "      <td>4</td>\n",
       "      <td>2</td>\n",
       "      <td>2</td>\n",
       "      <td>7</td>\n",
       "      <td>1865</td>\n",
       "      <td>831</td>\n",
       "      <td>8051</td>\n",
       "      <td>6868</td>\n",
       "      <td>2</td>\n",
       "      <td>1</td>\n",
       "    </tr>\n",
       "  </tbody>\n",
       "</table>\n",
       "</div>"
      ],
      "text/plain": [
       "                   author                                            content  \\\n",
       "count                8051                                               8051   \n",
       "unique               1125                                               8044   \n",
       "top     Le Monde avec AFP  Les Etats membres de l’Union européenne (UE) v...   \n",
       "freq                 2175                                                  4   \n",
       "\n",
       "                                           date  \\\n",
       "count                                      8051   \n",
       "unique                                     8026   \n",
       "top     2018-07-07T08:00:00,2018-07-07T08:00:00   \n",
       "freq                                          2   \n",
       "\n",
       "                                       datetime  \\\n",
       "count                                      8051   \n",
       "unique                                     8026   \n",
       "top     2018-10-27 10:17:00,2018-10-27 10:17:00   \n",
       "freq                                          2   \n",
       "\n",
       "                                              description  overall_theme  \\\n",
       "count                                                8051           8051   \n",
       "unique                                               8037             88   \n",
       "top     Les Décodeurs résument, pour les lecteurs de «...  International   \n",
       "freq                                                    7           1865   \n",
       "\n",
       "       subtitles       thematic theme  \\\n",
       "count       8051           8051  8051   \n",
       "unique      7194              1   211   \n",
       "top               international         \n",
       "freq         831           8051  6868   \n",
       "\n",
       "                                                    title  \\\n",
       "count                                                8051   \n",
       "unique                                               8049   \n",
       "top     Affaire Khashoggi : la France évoque des sanct...   \n",
       "freq                                                    2   \n",
       "\n",
       "                                                      url  \n",
       "count                                                8051  \n",
       "unique                                               8051  \n",
       "top     https://www.lemonde.fr/proche-orient/article/2...  \n",
       "freq                                                    1  "
      ]
     },
     "execution_count": 6,
     "metadata": {},
     "output_type": "execute_result"
    }
   ],
   "source": [
    "df.describe()"
   ]
  },
  {
   "cell_type": "code",
   "execution_count": null,
   "metadata": {},
   "outputs": [],
   "source": []
  },
  {
   "cell_type": "code",
   "execution_count": null,
   "metadata": {},
   "outputs": [],
   "source": []
  },
  {
   "cell_type": "code",
   "execution_count": null,
   "metadata": {},
   "outputs": [],
   "source": []
  },
  {
   "cell_type": "code",
   "execution_count": null,
   "metadata": {},
   "outputs": [],
   "source": []
  }
 ],
 "metadata": {
  "kernelspec": {
   "display_name": "Python 3",
   "language": "python",
   "name": "python3"
  },
  "language_info": {
   "codemirror_mode": {
    "name": "ipython",
    "version": 3
   },
   "file_extension": ".py",
   "mimetype": "text/x-python",
   "name": "python",
   "nbconvert_exporter": "python",
   "pygments_lexer": "ipython3",
   "version": "3.6.5"
  }
 },
 "nbformat": 4,
 "nbformat_minor": 2
}
